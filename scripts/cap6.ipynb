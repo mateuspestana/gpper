{
 "cells": [
  {
   "cell_type": "markdown",
   "metadata": {},
   "source": [
    "# Capítulo 6 \n",
    "### Linear Model Selection and Regularization\n",
    "\n",
    "#### Lab 1 - Subset Selection Methods"
   ]
  },
  {
   "cell_type": "code",
   "execution_count": 1,
   "metadata": {},
   "outputs": [
    {
     "name": "stderr",
     "output_type": "stream",
     "text": [
      "/Users/mateuspestana/Library/Python/3.7/lib/python/site-packages/sklearn/externals/joblib/__init__.py:15: DeprecationWarning: sklearn.externals.joblib is deprecated in 0.21 and will be removed in 0.23. Please import this functionality directly from joblib, which can be installed with: pip install joblib. If this warning is raised when loading pickled models, you may need to re-serialize those models with scikit-learn 0.21+.\n",
      "  warnings.warn(msg, category=DeprecationWarning)\n",
      "/Users/mateuspestana/Library/Python/3.7/lib/python/site-packages/sklearn/externals/six.py:31: DeprecationWarning: The module is deprecated in version 0.21 and will be removed in version 0.23 since we've dropped support for Python 2.7. Please rely on the official version of six (https://pypi.org/project/six/).\n",
      "  \"(https://pypi.org/project/six/).\", DeprecationWarning)\n"
     ]
    }
   ],
   "source": [
    "# Usar o banco \"Hitters\" do pacote ISLR do R e importá-lo com o Pandas\n",
    "%matplotlib inline\n",
    "\n",
    "import numpy as np\n",
    "import pandas as pd\n",
    "import matplotlib.pyplot as plt\n",
    "import seaborn as sns\n",
    "import glmnet as gln\n",
    "\n",
    "from sklearn.preprocessing import scale\n",
    "from sklearn import model_selection\n",
    "from sklearn.linear_model import LinearRegression, Ridge, RidgeCV, Lasso, LassoCV\n",
    "from sklearn.decomposition import PCA\n",
    "from sklearn.cross_decomposition import PLSRegression, PLSSVD\n",
    "from sklearn.model_selection import KFold, cross_val_score\n",
    "from sklearn.metrics import mean_squared_errorror\n",
    "\n",
    "\n",
    "plt.style.use('fivethirtyeight')\n",
    "\n",
    "pd.set_option('display.float_format', '{:20,.5f}'.format) # Para tirar a notação\n",
    "\n",
    "hitters = pd.read_csv(\"hitters.csv\", index_col = 0)"
   ]
  },
  {
   "cell_type": "code",
   "execution_count": 2,
   "metadata": {},
   "outputs": [
    {
     "name": "stdout",
     "output_type": "stream",
     "text": [
      "<class 'pandas.core.frame.DataFrame'>\n",
      "Index: 322 entries, -Andy Allanson to -Willie Wilson\n",
      "Data columns (total 20 columns):\n",
      "AtBat        322 non-null int64\n",
      "Hits         322 non-null int64\n",
      "HmRun        322 non-null int64\n",
      "Runs         322 non-null int64\n",
      "RBI          322 non-null int64\n",
      "Walks        322 non-null int64\n",
      "Years        322 non-null int64\n",
      "CAtBat       322 non-null int64\n",
      "CHits        322 non-null int64\n",
      "CHmRun       322 non-null int64\n",
      "CRuns        322 non-null int64\n",
      "CRBI         322 non-null int64\n",
      "CWalks       322 non-null int64\n",
      "League       322 non-null object\n",
      "Division     322 non-null object\n",
      "PutOuts      322 non-null int64\n",
      "Assists      322 non-null int64\n",
      "Errors       322 non-null int64\n",
      "Salary       263 non-null float64\n",
      "NewLeague    322 non-null object\n",
      "dtypes: float64(1), int64(16), object(3)\n",
      "memory usage: 52.8+ KB\n"
     ]
    }
   ],
   "source": [
    "hitters.info()"
   ]
  },
  {
   "cell_type": "code",
   "execution_count": 3,
   "metadata": {},
   "outputs": [
    {
     "data": {
      "text/html": [
       "<div>\n",
       "<style scoped>\n",
       "    .dataframe tbody tr th:only-of-type {\n",
       "        vertical-align: middle;\n",
       "    }\n",
       "\n",
       "    .dataframe tbody tr th {\n",
       "        vertical-align: top;\n",
       "    }\n",
       "\n",
       "    .dataframe thead th {\n",
       "        text-align: right;\n",
       "    }\n",
       "</style>\n",
       "<table border=\"1\" class=\"dataframe\">\n",
       "  <thead>\n",
       "    <tr style=\"text-align: right;\">\n",
       "      <th></th>\n",
       "      <th>AtBat</th>\n",
       "      <th>Hits</th>\n",
       "      <th>HmRun</th>\n",
       "      <th>Runs</th>\n",
       "      <th>RBI</th>\n",
       "      <th>Walks</th>\n",
       "      <th>Years</th>\n",
       "      <th>CAtBat</th>\n",
       "      <th>CHits</th>\n",
       "      <th>CHmRun</th>\n",
       "      <th>CRuns</th>\n",
       "      <th>CRBI</th>\n",
       "      <th>CWalks</th>\n",
       "      <th>League</th>\n",
       "      <th>Division</th>\n",
       "      <th>PutOuts</th>\n",
       "      <th>Assists</th>\n",
       "      <th>Errors</th>\n",
       "      <th>Salary</th>\n",
       "      <th>NewLeague</th>\n",
       "    </tr>\n",
       "  </thead>\n",
       "  <tbody>\n",
       "    <tr>\n",
       "      <th>-Andy Allanson</th>\n",
       "      <td>293</td>\n",
       "      <td>66</td>\n",
       "      <td>1</td>\n",
       "      <td>30</td>\n",
       "      <td>29</td>\n",
       "      <td>14</td>\n",
       "      <td>1</td>\n",
       "      <td>293</td>\n",
       "      <td>66</td>\n",
       "      <td>1</td>\n",
       "      <td>30</td>\n",
       "      <td>29</td>\n",
       "      <td>14</td>\n",
       "      <td>A</td>\n",
       "      <td>E</td>\n",
       "      <td>446</td>\n",
       "      <td>33</td>\n",
       "      <td>20</td>\n",
       "      <td>nan</td>\n",
       "      <td>A</td>\n",
       "    </tr>\n",
       "    <tr>\n",
       "      <th>-Alan Ashby</th>\n",
       "      <td>315</td>\n",
       "      <td>81</td>\n",
       "      <td>7</td>\n",
       "      <td>24</td>\n",
       "      <td>38</td>\n",
       "      <td>39</td>\n",
       "      <td>14</td>\n",
       "      <td>3449</td>\n",
       "      <td>835</td>\n",
       "      <td>69</td>\n",
       "      <td>321</td>\n",
       "      <td>414</td>\n",
       "      <td>375</td>\n",
       "      <td>N</td>\n",
       "      <td>W</td>\n",
       "      <td>632</td>\n",
       "      <td>43</td>\n",
       "      <td>10</td>\n",
       "      <td>475.00000</td>\n",
       "      <td>N</td>\n",
       "    </tr>\n",
       "    <tr>\n",
       "      <th>-Alvin Davis</th>\n",
       "      <td>479</td>\n",
       "      <td>130</td>\n",
       "      <td>18</td>\n",
       "      <td>66</td>\n",
       "      <td>72</td>\n",
       "      <td>76</td>\n",
       "      <td>3</td>\n",
       "      <td>1624</td>\n",
       "      <td>457</td>\n",
       "      <td>63</td>\n",
       "      <td>224</td>\n",
       "      <td>266</td>\n",
       "      <td>263</td>\n",
       "      <td>A</td>\n",
       "      <td>W</td>\n",
       "      <td>880</td>\n",
       "      <td>82</td>\n",
       "      <td>14</td>\n",
       "      <td>480.00000</td>\n",
       "      <td>A</td>\n",
       "    </tr>\n",
       "    <tr>\n",
       "      <th>-Andre Dawson</th>\n",
       "      <td>496</td>\n",
       "      <td>141</td>\n",
       "      <td>20</td>\n",
       "      <td>65</td>\n",
       "      <td>78</td>\n",
       "      <td>37</td>\n",
       "      <td>11</td>\n",
       "      <td>5628</td>\n",
       "      <td>1575</td>\n",
       "      <td>225</td>\n",
       "      <td>828</td>\n",
       "      <td>838</td>\n",
       "      <td>354</td>\n",
       "      <td>N</td>\n",
       "      <td>E</td>\n",
       "      <td>200</td>\n",
       "      <td>11</td>\n",
       "      <td>3</td>\n",
       "      <td>500.00000</td>\n",
       "      <td>N</td>\n",
       "    </tr>\n",
       "    <tr>\n",
       "      <th>-Andres Galarraga</th>\n",
       "      <td>321</td>\n",
       "      <td>87</td>\n",
       "      <td>10</td>\n",
       "      <td>39</td>\n",
       "      <td>42</td>\n",
       "      <td>30</td>\n",
       "      <td>2</td>\n",
       "      <td>396</td>\n",
       "      <td>101</td>\n",
       "      <td>12</td>\n",
       "      <td>48</td>\n",
       "      <td>46</td>\n",
       "      <td>33</td>\n",
       "      <td>N</td>\n",
       "      <td>E</td>\n",
       "      <td>805</td>\n",
       "      <td>40</td>\n",
       "      <td>4</td>\n",
       "      <td>91.50000</td>\n",
       "      <td>N</td>\n",
       "    </tr>\n",
       "    <tr>\n",
       "      <th>-Alfredo Griffin</th>\n",
       "      <td>594</td>\n",
       "      <td>169</td>\n",
       "      <td>4</td>\n",
       "      <td>74</td>\n",
       "      <td>51</td>\n",
       "      <td>35</td>\n",
       "      <td>11</td>\n",
       "      <td>4408</td>\n",
       "      <td>1133</td>\n",
       "      <td>19</td>\n",
       "      <td>501</td>\n",
       "      <td>336</td>\n",
       "      <td>194</td>\n",
       "      <td>A</td>\n",
       "      <td>W</td>\n",
       "      <td>282</td>\n",
       "      <td>421</td>\n",
       "      <td>25</td>\n",
       "      <td>750.00000</td>\n",
       "      <td>A</td>\n",
       "    </tr>\n",
       "    <tr>\n",
       "      <th>-Al Newman</th>\n",
       "      <td>185</td>\n",
       "      <td>37</td>\n",
       "      <td>1</td>\n",
       "      <td>23</td>\n",
       "      <td>8</td>\n",
       "      <td>21</td>\n",
       "      <td>2</td>\n",
       "      <td>214</td>\n",
       "      <td>42</td>\n",
       "      <td>1</td>\n",
       "      <td>30</td>\n",
       "      <td>9</td>\n",
       "      <td>24</td>\n",
       "      <td>N</td>\n",
       "      <td>E</td>\n",
       "      <td>76</td>\n",
       "      <td>127</td>\n",
       "      <td>7</td>\n",
       "      <td>70.00000</td>\n",
       "      <td>A</td>\n",
       "    </tr>\n",
       "    <tr>\n",
       "      <th>-Argenis Salazar</th>\n",
       "      <td>298</td>\n",
       "      <td>73</td>\n",
       "      <td>0</td>\n",
       "      <td>24</td>\n",
       "      <td>24</td>\n",
       "      <td>7</td>\n",
       "      <td>3</td>\n",
       "      <td>509</td>\n",
       "      <td>108</td>\n",
       "      <td>0</td>\n",
       "      <td>41</td>\n",
       "      <td>37</td>\n",
       "      <td>12</td>\n",
       "      <td>A</td>\n",
       "      <td>W</td>\n",
       "      <td>121</td>\n",
       "      <td>283</td>\n",
       "      <td>9</td>\n",
       "      <td>100.00000</td>\n",
       "      <td>A</td>\n",
       "    </tr>\n",
       "    <tr>\n",
       "      <th>-Andres Thomas</th>\n",
       "      <td>323</td>\n",
       "      <td>81</td>\n",
       "      <td>6</td>\n",
       "      <td>26</td>\n",
       "      <td>32</td>\n",
       "      <td>8</td>\n",
       "      <td>2</td>\n",
       "      <td>341</td>\n",
       "      <td>86</td>\n",
       "      <td>6</td>\n",
       "      <td>32</td>\n",
       "      <td>34</td>\n",
       "      <td>8</td>\n",
       "      <td>N</td>\n",
       "      <td>W</td>\n",
       "      <td>143</td>\n",
       "      <td>290</td>\n",
       "      <td>19</td>\n",
       "      <td>75.00000</td>\n",
       "      <td>N</td>\n",
       "    </tr>\n",
       "    <tr>\n",
       "      <th>-Andre Thornton</th>\n",
       "      <td>401</td>\n",
       "      <td>92</td>\n",
       "      <td>17</td>\n",
       "      <td>49</td>\n",
       "      <td>66</td>\n",
       "      <td>65</td>\n",
       "      <td>13</td>\n",
       "      <td>5206</td>\n",
       "      <td>1332</td>\n",
       "      <td>253</td>\n",
       "      <td>784</td>\n",
       "      <td>890</td>\n",
       "      <td>866</td>\n",
       "      <td>A</td>\n",
       "      <td>E</td>\n",
       "      <td>0</td>\n",
       "      <td>0</td>\n",
       "      <td>0</td>\n",
       "      <td>1,100.00000</td>\n",
       "      <td>A</td>\n",
       "    </tr>\n",
       "  </tbody>\n",
       "</table>\n",
       "</div>"
      ],
      "text/plain": [
       "                   AtBat  Hits  HmRun  Runs  RBI  Walks  Years  CAtBat  CHits  \\\n",
       "-Andy Allanson       293    66      1    30   29     14      1     293     66   \n",
       "-Alan Ashby          315    81      7    24   38     39     14    3449    835   \n",
       "-Alvin Davis         479   130     18    66   72     76      3    1624    457   \n",
       "-Andre Dawson        496   141     20    65   78     37     11    5628   1575   \n",
       "-Andres Galarraga    321    87     10    39   42     30      2     396    101   \n",
       "-Alfredo Griffin     594   169      4    74   51     35     11    4408   1133   \n",
       "-Al Newman           185    37      1    23    8     21      2     214     42   \n",
       "-Argenis Salazar     298    73      0    24   24      7      3     509    108   \n",
       "-Andres Thomas       323    81      6    26   32      8      2     341     86   \n",
       "-Andre Thornton      401    92     17    49   66     65     13    5206   1332   \n",
       "\n",
       "                   CHmRun  CRuns  CRBI  CWalks League Division  PutOuts  \\\n",
       "-Andy Allanson          1     30    29      14      A        E      446   \n",
       "-Alan Ashby            69    321   414     375      N        W      632   \n",
       "-Alvin Davis           63    224   266     263      A        W      880   \n",
       "-Andre Dawson         225    828   838     354      N        E      200   \n",
       "-Andres Galarraga      12     48    46      33      N        E      805   \n",
       "-Alfredo Griffin       19    501   336     194      A        W      282   \n",
       "-Al Newman              1     30     9      24      N        E       76   \n",
       "-Argenis Salazar        0     41    37      12      A        W      121   \n",
       "-Andres Thomas          6     32    34       8      N        W      143   \n",
       "-Andre Thornton       253    784   890     866      A        E        0   \n",
       "\n",
       "                   Assists  Errors               Salary NewLeague  \n",
       "-Andy Allanson          33      20                  nan         A  \n",
       "-Alan Ashby             43      10            475.00000         N  \n",
       "-Alvin Davis            82      14            480.00000         A  \n",
       "-Andre Dawson           11       3            500.00000         N  \n",
       "-Andres Galarraga       40       4             91.50000         N  \n",
       "-Alfredo Griffin       421      25            750.00000         A  \n",
       "-Al Newman             127       7             70.00000         A  \n",
       "-Argenis Salazar       283       9            100.00000         A  \n",
       "-Andres Thomas         290      19             75.00000         N  \n",
       "-Andre Thornton          0       0          1,100.00000         A  "
      ]
     },
     "execution_count": 3,
     "metadata": {},
     "output_type": "execute_result"
    }
   ],
   "source": [
    "hitters.head(10) # equivale ao head()"
   ]
  },
  {
   "cell_type": "code",
   "execution_count": 4,
   "metadata": {},
   "outputs": [
    {
     "data": {
      "text/plain": [
       "Index(['AtBat', 'Hits', 'HmRun', 'Runs', 'RBI', 'Walks', 'Years', 'CAtBat',\n",
       "       'CHits', 'CHmRun', 'CRuns', 'CRBI', 'CWalks', 'League', 'Division',\n",
       "       'PutOuts', 'Assists', 'Errors', 'Salary', 'NewLeague'],\n",
       "      dtype='object')"
      ]
     },
     "execution_count": 4,
     "metadata": {},
     "output_type": "execute_result"
    }
   ],
   "source": [
    "hitters.columns # Equivale ao names()"
   ]
  },
  {
   "cell_type": "code",
   "execution_count": 5,
   "metadata": {},
   "outputs": [
    {
     "data": {
      "text/plain": [
       "(322, 20)"
      ]
     },
     "execution_count": 5,
     "metadata": {},
     "output_type": "execute_result"
    }
   ],
   "source": [
    "hitters.shape # equivale ao dim(). Não confundir com o .ndim"
   ]
  },
  {
   "cell_type": "code",
   "execution_count": 6,
   "metadata": {},
   "outputs": [
    {
     "data": {
      "text/plain": [
       "AtBat         0\n",
       "Hits          0\n",
       "HmRun         0\n",
       "Runs          0\n",
       "RBI           0\n",
       "Walks         0\n",
       "Years         0\n",
       "CAtBat        0\n",
       "CHits         0\n",
       "CHmRun        0\n",
       "CRuns         0\n",
       "CRBI          0\n",
       "CWalks        0\n",
       "League        0\n",
       "Division      0\n",
       "PutOuts       0\n",
       "Assists       0\n",
       "Errors        0\n",
       "Salary       59\n",
       "NewLeague     0\n",
       "dtype: int64"
      ]
     },
     "execution_count": 6,
     "metadata": {},
     "output_type": "execute_result"
    }
   ],
   "source": [
    "hitters.isna().sum() # equivale ao sum(is.na(hitters))"
   ]
  },
  {
   "cell_type": "code",
   "execution_count": 8,
   "metadata": {},
   "outputs": [
    {
     "name": "stdout",
     "output_type": "stream",
     "text": [
      "<class 'pandas.core.frame.DataFrame'>\n",
      "Index: 263 entries, -Alan Ashby to -Willie Wilson\n",
      "Data columns (total 20 columns):\n",
      "AtBat        263 non-null int64\n",
      "Hits         263 non-null int64\n",
      "HmRun        263 non-null int64\n",
      "Runs         263 non-null int64\n",
      "RBI          263 non-null int64\n",
      "Walks        263 non-null int64\n",
      "Years        263 non-null int64\n",
      "CAtBat       263 non-null int64\n",
      "CHits        263 non-null int64\n",
      "CHmRun       263 non-null int64\n",
      "CRuns        263 non-null int64\n",
      "CRBI         263 non-null int64\n",
      "CWalks       263 non-null int64\n",
      "League       263 non-null object\n",
      "Division     263 non-null object\n",
      "PutOuts      263 non-null int64\n",
      "Assists      263 non-null int64\n",
      "Errors       263 non-null int64\n",
      "Salary       263 non-null float64\n",
      "NewLeague    263 non-null object\n",
      "dtypes: float64(1), int64(16), object(3)\n",
      "memory usage: 43.1+ KB\n"
     ]
    }
   ],
   "source": [
    "# Para remover os na\n",
    "hitters = hitters.dropna()\n",
    "hitters.info()"
   ]
  },
  {
   "cell_type": "code",
   "execution_count": 8,
   "metadata": {},
   "outputs": [
    {
     "data": {
      "text/plain": [
       "AtBat        0\n",
       "Hits         0\n",
       "HmRun        0\n",
       "Runs         0\n",
       "RBI          0\n",
       "Walks        0\n",
       "Years        0\n",
       "CAtBat       0\n",
       "CHits        0\n",
       "CHmRun       0\n",
       "CRuns        0\n",
       "CRBI         0\n",
       "CWalks       0\n",
       "League       0\n",
       "Division     0\n",
       "PutOuts      0\n",
       "Assists      0\n",
       "Errors       0\n",
       "Salary       0\n",
       "NewLeague    0\n",
       "dtype: int64"
      ]
     },
     "execution_count": 8,
     "metadata": {},
     "output_type": "execute_result"
    }
   ],
   "source": [
    "hitters.isna().sum() # OK! "
   ]
  },
  {
   "cell_type": "code",
   "execution_count": 9,
   "metadata": {},
   "outputs": [],
   "source": [
    "hitters['League'] = pd.get_dummies(hitters['League']).iloc[:, 1]\n",
    "hitters['Division'] = pd.get_dummies(hitters['Division']).iloc[:, 1]\n",
    "hitters['NewLeague'] = pd.get_dummies(hitters['NewLeague']).iloc[:, 1]\n",
    "\n",
    "hitters = hitters.iloc[:, [0,1,2,3,4,5,6,7,8,9,10,11,12,13,14,15,16,17,19,18]]\n",
    "x = hitters.iloc[:, 0:19]\n",
    "y = hitters.iloc[:, 19]"
   ]
  },
  {
   "cell_type": "code",
   "execution_count": 10,
   "metadata": {},
   "outputs": [],
   "source": [
    "# Falta ver aqui como fazer aquele regsubset etc"
   ]
  },
  {
   "cell_type": "markdown",
   "metadata": {},
   "source": [
    "### Ridge Regression"
   ]
  },
  {
   "cell_type": "code",
   "execution_count": 11,
   "metadata": {},
   "outputs": [],
   "source": [
    "grid = 10  ** np.linspace(3, -2, 100)\n",
    "\n",
    "ridge_mod = Ridge(normalize = True)\n",
    "coefs = []\n",
    "\n",
    "for a in grid:\n",
    "    ridge_mod.set_params(alpha = a)\n",
    "    ridge_mod.fit(x, y)\n",
    "    coefs.append(ridge_mod.coef_)"
   ]
  },
  {
   "cell_type": "code",
   "execution_count": 12,
   "metadata": {},
   "outputs": [
    {
     "name": "stdout",
     "output_type": "stream",
     "text": [
      "Dimensões dos coeficientes: 100 19\n"
     ]
    }
   ],
   "source": [
    "# coefs.shape[]\n",
    "print(\"Dimensões dos coeficientes:\", len(coefs), len(coefs[0]))\n"
   ]
  },
  {
   "cell_type": "code",
   "execution_count": 13,
   "metadata": {},
   "outputs": [
    {
     "data": {
      "text/plain": [
       "3.351602650938841"
      ]
     },
     "execution_count": 13,
     "metadata": {},
     "output_type": "execute_result"
    }
   ],
   "source": [
    "# Olhando o Lambda no caso 50 (como python indexa em 0, caso 49)\n",
    "grid[49] # é o lambda"
   ]
  },
  {
   "cell_type": "code",
   "execution_count": 14,
   "metadata": {},
   "outputs": [
    {
     "data": {
      "text/plain": [
       "AtBat                    0.10768\n",
       "Hits                     0.48869\n",
       "HmRun                    1.31796\n",
       "Runs                     0.75786\n",
       "RBI                      0.73100\n",
       "Walks                    1.00938\n",
       "Years                    2.78921\n",
       "CAtBat                   0.00930\n",
       "CHits                    0.03704\n",
       "CHmRun                   0.27235\n",
       "CRuns                    0.07422\n",
       "CRBI                     0.07695\n",
       "CWalks                   0.06917\n",
       "League                   6.81267\n",
       "Division               -33.62792\n",
       "PutOuts                  0.07705\n",
       "Assists                  0.01026\n",
       "Errors                  -0.30280\n",
       "NewLeague                5.36069\n",
       "dtype: float64"
      ]
     },
     "execution_count": 14,
     "metadata": {},
     "output_type": "execute_result"
    }
   ],
   "source": [
    "pd.Series(coefs[49], index = x.columns) # coeficientes quando o lambda é 11497"
   ]
  },
  {
   "cell_type": "code",
   "execution_count": 15,
   "metadata": {},
   "outputs": [
    {
     "data": {
      "text/plain": [
       "AtBat                    0.10016\n",
       "Hits                     0.75475\n",
       "HmRun                    0.93000\n",
       "Runs                     1.01050\n",
       "RBI                      0.87364\n",
       "Walks                    1.47875\n",
       "Years                    2.10667\n",
       "CAtBat                   0.01126\n",
       "CHits                    0.05206\n",
       "CHmRun                   0.37213\n",
       "CRuns                    0.10387\n",
       "CRBI                     0.10925\n",
       "CWalks                   0.06542\n",
       "League                  17.95086\n",
       "Division               -67.36377\n",
       "PutOuts                  0.14325\n",
       "Assists                  0.02163\n",
       "Errors                  -1.01680\n",
       "NewLeague                9.43672\n",
       "dtype: float64"
      ]
     },
     "execution_count": 15,
     "metadata": {},
     "output_type": "execute_result"
    }
   ],
   "source": [
    "grid[59]\n",
    "pd.Series(coefs[59], index  = x.columns)"
   ]
  },
  {
   "cell_type": "code",
   "execution_count": 16,
   "metadata": {},
   "outputs": [
    {
     "data": {
      "image/png": "[encoded data removed]",
      "text/plain": [
       "<Figure size 432x288 with 1 Axes>"
      ]
     },
     "metadata": {
      "needs_background": "light"
     },
     "output_type": "display_data"
    }
   ],
   "source": [
    "ax = plt.gca()\n",
    "ax.plot(grid, coefs)\n",
    "ax.set_xscale('log')\n",
    "plt.xlabel('alpha')\n",
    "plt.ylabel('pesos');"
   ]
  },
  {
   "cell_type": "code",
   "execution_count": 17,
   "metadata": {},
   "outputs": [],
   "source": [
    "#  Fazendo o split entre  treino e teste\n",
    "x_train, x_test,  y_train, y_test = model_selection.train_test_split(x, y, test_size = 0.5, random_state = 1)"
   ]
  },
  {
   "cell_type": "code",
   "execution_count": 18,
   "metadata": {},
   "outputs": [
    {
     "data": {
      "text/plain": [
       "((131, 19), (132, 19), (131,), (132,))"
      ]
     },
     "execution_count": 18,
     "metadata": {},
     "output_type": "execute_result"
    }
   ],
   "source": [
    "x_train.shape, x_test.shape, y_train.shape, y_test.shape"
   ]
  },
  {
   "cell_type": "code",
   "execution_count": 19,
   "metadata": {},
   "outputs": [
    {
     "data": {
      "text/plain": [
       "AtBat                    0.09866\n",
       "Hits                     0.44609\n",
       "HmRun                    1.41211\n",
       "Runs                     0.66077\n",
       "RBI                      0.84340\n",
       "Walks                    1.00847\n",
       "Years                    2.77988\n",
       "CAtBat                   0.00824\n",
       "CHits                    0.03415\n",
       "CHmRun                   0.26863\n",
       "CRuns                    0.07041\n",
       "CRBI                     0.07006\n",
       "CWalks                   0.08279\n",
       "League                   4.24105\n",
       "Division               -30.76888\n",
       "PutOuts                  0.10475\n",
       "Assists                 -0.00374\n",
       "Errors                   0.26836\n",
       "NewLeague                4.12347\n",
       "dtype: float64"
      ]
     },
     "execution_count": 19,
     "metadata": {},
     "output_type": "execute_result"
    }
   ],
   "source": [
    "# Lambda 4\n",
    "ridge_mod2 = Ridge(alpha = 4, normalize  = True)\n",
    "ridge_mod2_fit = ridge_mod2.fit(x_train, y_train)\n",
    "y_pred2 = ridge_mod2.predict(x_test)\n",
    "pd.Series(ridge_mod2_fit.coef_, index = x.columns)"
   ]
  },
  {
   "cell_type": "code",
   "execution_count": 20,
   "metadata": {},
   "outputs": [
    {
     "data": {
      "text/plain": [
       "106216.52238005563"
      ]
     },
     "execution_count": 20,
     "metadata": {},
     "output_type": "execute_result"
    }
   ],
   "source": [
    "# MSE\n",
    "mean_squared_error(y_test,  y_pred2)"
   ]
  },
  {
   "cell_type": "code",
   "execution_count": 21,
   "metadata": {},
   "outputs": [
    {
     "data": {
      "text/plain": [
       "AtBat                    0.00000\n",
       "Hits                     0.00000\n",
       "HmRun                    0.00000\n",
       "Runs                     0.00000\n",
       "RBI                      0.00000\n",
       "Walks                    0.00000\n",
       "Years                    0.00000\n",
       "CAtBat                   0.00000\n",
       "CHits                    0.00000\n",
       "CHmRun                   0.00000\n",
       "CRuns                    0.00000\n",
       "CRBI                     0.00000\n",
       "CWalks                   0.00000\n",
       "League                  -0.00000\n",
       "Division                -0.00000\n",
       "PutOuts                  0.00000\n",
       "Assists                 -0.00000\n",
       "Errors                   0.00000\n",
       "NewLeague               -0.00000\n",
       "dtype: float64"
      ]
     },
     "execution_count": 21,
     "metadata": {},
     "output_type": "execute_result"
    }
   ],
   "source": [
    "# Lambda 1e10\n",
    "ridge_mod3 = Ridge(alpha=1e10, normalize=True)\n",
    "ridge_mod3_fit = ridge_mod3.fit(x_train, y_train)\n",
    "y_pred3 = ridge_mod3.predict(x_test)\n",
    "pd.Series(ridge_mod3_fit.coef_, index=x.columns)"
   ]
  },
  {
   "cell_type": "code",
   "execution_count": 22,
   "metadata": {},
   "outputs": [
    {
     "data": {
      "text/plain": [
       "172862.23580379886"
      ]
     },
     "execution_count": 22,
     "metadata": {},
     "output_type": "execute_result"
    }
   ],
   "source": [
    "mean_squared_error(y_test, y_pred3)"
   ]
  },
  {
   "cell_type": "code",
   "execution_count": 23,
   "metadata": {},
   "outputs": [
    {
     "data": {
      "text/plain": [
       "AtBat                   -1.82111\n",
       "Hits                     4.25916\n",
       "HmRun                   -4.77340\n",
       "Runs                    -0.03876\n",
       "RBI                      3.98458\n",
       "Walks                    3.47013\n",
       "Years                    9.49824\n",
       "CAtBat                  -0.60513\n",
       "CHits                    2.17498\n",
       "CHmRun                   2.97931\n",
       "CRuns                    0.26636\n",
       "CRBI                    -0.59846\n",
       "CWalks                   0.17138\n",
       "League                 133.74316\n",
       "Division              -113.74387\n",
       "PutOuts                  0.42106\n",
       "Assists                  0.46438\n",
       "Errors                  -6.02458\n",
       "NewLeague              -81.92776\n",
       "dtype: float64"
      ]
     },
     "execution_count": 23,
     "metadata": {},
     "output_type": "execute_result"
    }
   ],
   "source": [
    "# Lambda 0\n",
    "ridge_mod4 = Ridge(alpha=0, normalize=True)\n",
    "ridge_mod4_fit = ridge_mod4.fit(x_train, y_train)\n",
    "y_pred4 = ridge_mod4.predict(x_test)\n",
    "pd.Series(ridge_mod4_fit.coef_, index=x.columns)"
   ]
  },
  {
   "cell_type": "code",
   "execution_count": 24,
   "metadata": {},
   "outputs": [
    {
     "data": {
      "text/plain": [
       "116690.46856660137"
      ]
     },
     "execution_count": 24,
     "metadata": {},
     "output_type": "execute_result"
    }
   ],
   "source": [
    "mean_squared_error(y_test, y_pred4)"
   ]
  },
  {
   "cell_type": "code",
   "execution_count": 25,
   "metadata": {},
   "outputs": [
    {
     "data": {
      "text/plain": [
       "0.5857020818056667"
      ]
     },
     "execution_count": 25,
     "metadata": {},
     "output_type": "execute_result"
    }
   ],
   "source": [
    "# Validação Cruzada (CV) na regressão ridge \n",
    "ridge_cv = RidgeCV(alphas = grid, normalize = True, scoring = 'neg_mean_squared_error')\n",
    "ridge_cv.fit(x_train, y_train)\n",
    "ridge_cv.alpha_"
   ]
  },
  {
   "cell_type": "code",
   "execution_count": 26,
   "metadata": {},
   "outputs": [
    {
     "data": {
      "text/plain": [
       "AtBat                   -0.01054\n",
       "Hits                     0.85783\n",
       "HmRun                   -0.25559\n",
       "Runs                     0.72445\n",
       "RBI                      1.31289\n",
       "Walks                    2.08091\n",
       "Years                    1.24184\n",
       "CAtBat                   0.00674\n",
       "CHits                    0.05185\n",
       "CHmRun                   0.50997\n",
       "CRuns                    0.10642\n",
       "CRBI                     0.12755\n",
       "CWalks                   0.09931\n",
       "League                  18.74612\n",
       "Division               -91.61325\n",
       "PutOuts                  0.27850\n",
       "Assists                 -0.01733\n",
       "Errors                  -0.30212\n",
       "NewLeague                9.99140\n",
       "dtype: float64"
      ]
     },
     "execution_count": 26,
     "metadata": {},
     "output_type": "execute_result"
    }
   ],
   "source": [
    "ridge_mod5 = Ridge(alpha = ridge_cv.alpha_, normalize = True)\n",
    "ridge_mod5_fit = ridge_mod5.fit(x_train, y_train)\n",
    "y_pred5 = ridge_mod5.predict(x_test)\n",
    "pd.Series(ridge_mod5_fit.coef_, index=x.columns)"
   ]
  },
  {
   "cell_type": "markdown",
   "metadata": {},
   "source": [
    "###  Lasso"
   ]
  },
  {
   "cell_type": "code",
   "execution_count": 27,
   "metadata": {},
   "outputs": [
    {
     "data": {
      "text/plain": [
       "AtBat                 -277.76810\n",
       "Hits                   218.98444\n",
       "HmRun                  -33.95717\n",
       "Runs                    -8.40904\n",
       "RBI                     94.57912\n",
       "Walks                   85.21447\n",
       "Years                   39.10457\n",
       "CAtBat              -1,281.82046\n",
       "CHits                1,230.96045\n",
       "CHmRun                 216.27155\n",
       "CRuns                  140.85215\n",
       "CRBI                  -118.69262\n",
       "CWalks                  21.51505\n",
       "League                  63.88568\n",
       "Division               -57.37228\n",
       "PutOuts                125.78313\n",
       "Assists                 63.84313\n",
       "Errors                 -36.12178\n",
       "NewLeague              -38.77461\n",
       "dtype: float64"
      ]
     },
     "execution_count": 27,
     "metadata": {},
     "output_type": "execute_result"
    }
   ],
   "source": [
    "lasso_mod = Lasso(normalize= True,max_iter  = 100000)\n",
    "\n",
    "coefs = []\n",
    "for a in grid:\n",
    "    lasso_mod.set_params(alpha  = a)\n",
    "    lasso_mod.fit(scale(x_train), y_train)\n",
    "    coefs.append(lasso_mod.coef_)\n",
    "    \n",
    "pd.Series(lasso_mod.coef_, index=x.columns)"
   ]
  },
  {
   "cell_type": "code",
   "execution_count": 28,
   "metadata": {},
   "outputs": [
    {
     "data": {
      "image/png": "[encoded data removed]",
      "text/plain": [
       "<Figure size 432x288 with 1 Axes>"
      ]
     },
     "metadata": {
      "needs_background": "light"
     },
     "output_type": "display_data"
    }
   ],
   "source": [
    "ax = plt.gca()\n",
    "ax.plot(grid, coefs)\n",
    "ax.set_xscale('log')\n",
    "\n",
    "plt.axis('auto')\n",
    "plt.xlabel('alpha')\n",
    "plt.ylabel('pesos');"
   ]
  },
  {
   "cell_type": "code",
   "execution_count": 29,
   "metadata": {},
   "outputs": [
    {
     "data": {
      "text/plain": [
       "2.364489412645407"
      ]
     },
     "execution_count": 29,
     "metadata": {},
     "output_type": "execute_result"
    }
   ],
   "source": [
    "lasso_cv = LassoCV(alphas=grid, max_iter=100000, normalize=True, cv=10)\n",
    "lasso_cv.fit(x_train, y_train)\n",
    "lasso_cv.alpha_"
   ]
  },
  {
   "cell_type": "code",
   "execution_count": 30,
   "metadata": {},
   "outputs": [
    {
     "data": {
      "text/plain": [
       "AtBat                    0.00000\n",
       "Hits                     1.08587\n",
       "HmRun                    0.00000\n",
       "Runs                     0.00000\n",
       "RBI                      0.00000\n",
       "Walks                    2.91350\n",
       "Years                    0.00000\n",
       "CAtBat                   0.00000\n",
       "CHits                    0.00000\n",
       "CHmRun                   0.22134\n",
       "CRuns                    0.00000\n",
       "CRBI                     0.51447\n",
       "CWalks                   0.00000\n",
       "League                   0.00000\n",
       "Division               -89.91394\n",
       "PutOuts                  0.36912\n",
       "Assists                 -0.00000\n",
       "Errors                  -0.00000\n",
       "NewLeague                0.00000\n",
       "dtype: float64"
      ]
     },
     "execution_count": 30,
     "metadata": {},
     "output_type": "execute_result"
    }
   ],
   "source": [
    "lasso_mod2 = Lasso(alpha = lasso_cv.alpha_, normalize = True, max_iter= 10000)\n",
    "lasso_mod2_fit = lasso_mod2.fit(x_train,y_train)\n",
    "lassoy_pred2 = lasso_mod2_fit.predict(x_test)\n",
    "\n",
    "pd.Series(lasso_mod2_fit.coef_, index=x.columns)"
   ]
  },
  {
   "cell_type": "markdown",
   "metadata": {},
   "source": [
    "### PCR e PLS"
   ]
  },
  {
   "cell_type": "code",
   "execution_count": 31,
   "metadata": {},
   "outputs": [
    {
     "data": {
      "text/html": [
       "<div>\n",
       "<style scoped>\n",
       "    .dataframe tbody tr th:only-of-type {\n",
       "        vertical-align: middle;\n",
       "    }\n",
       "\n",
       "    .dataframe tbody tr th {\n",
       "        vertical-align: top;\n",
       "    }\n",
       "\n",
       "    .dataframe thead th {\n",
       "        text-align: right;\n",
       "    }\n",
       "</style>\n",
       "<table border=\"1\" class=\"dataframe\">\n",
       "  <thead>\n",
       "    <tr style=\"text-align: right;\">\n",
       "      <th></th>\n",
       "      <th>0</th>\n",
       "      <th>1</th>\n",
       "      <th>2</th>\n",
       "      <th>3</th>\n",
       "      <th>4</th>\n",
       "      <th>5</th>\n",
       "      <th>6</th>\n",
       "      <th>7</th>\n",
       "      <th>8</th>\n",
       "      <th>9</th>\n",
       "      <th>10</th>\n",
       "      <th>11</th>\n",
       "      <th>12</th>\n",
       "      <th>13</th>\n",
       "      <th>14</th>\n",
       "      <th>15</th>\n",
       "      <th>16</th>\n",
       "      <th>17</th>\n",
       "      <th>18</th>\n",
       "    </tr>\n",
       "  </thead>\n",
       "  <tbody>\n",
       "    <tr>\n",
       "      <th>0</th>\n",
       "      <td>-0.00965</td>\n",
       "      <td>1.87052</td>\n",
       "      <td>1.26515</td>\n",
       "      <td>-0.93548</td>\n",
       "      <td>1.10964</td>\n",
       "      <td>1.21197</td>\n",
       "      <td>-0.06515</td>\n",
       "      <td>-0.09825</td>\n",
       "      <td>-0.25242</td>\n",
       "      <td>-0.63710</td>\n",
       "      <td>0.45934</td>\n",
       "      <td>0.61586</td>\n",
       "      <td>-0.47809</td>\n",
       "      <td>0.38841</td>\n",
       "      <td>0.06360</td>\n",
       "      <td>0.14479</td>\n",
       "      <td>0.08022</td>\n",
       "      <td>0.03814</td>\n",
       "      <td>-0.01925</td>\n",
       "    </tr>\n",
       "    <tr>\n",
       "      <th>1</th>\n",
       "      <td>0.41143</td>\n",
       "      <td>-2.42942</td>\n",
       "      <td>-0.90919</td>\n",
       "      <td>-0.26421</td>\n",
       "      <td>1.23203</td>\n",
       "      <td>1.82662</td>\n",
       "      <td>0.35989</td>\n",
       "      <td>-1.19938</td>\n",
       "      <td>-0.37182</td>\n",
       "      <td>0.01521</td>\n",
       "      <td>0.17624</td>\n",
       "      <td>0.08053</td>\n",
       "      <td>0.40348</td>\n",
       "      <td>-0.01939</td>\n",
       "      <td>0.06515</td>\n",
       "      <td>0.16106</td>\n",
       "      <td>0.04434</td>\n",
       "      <td>0.01483</td>\n",
       "      <td>-0.00339</td>\n",
       "    </tr>\n",
       "    <tr>\n",
       "      <th>2</th>\n",
       "      <td>3.46682</td>\n",
       "      <td>0.82595</td>\n",
       "      <td>0.55547</td>\n",
       "      <td>-1.61673</td>\n",
       "      <td>-0.85749</td>\n",
       "      <td>-1.02871</td>\n",
       "      <td>-0.99939</td>\n",
       "      <td>0.84425</td>\n",
       "      <td>0.19738</td>\n",
       "      <td>0.77049</td>\n",
       "      <td>0.05565</td>\n",
       "      <td>0.10494</td>\n",
       "      <td>0.02161</td>\n",
       "      <td>-0.37620</td>\n",
       "      <td>0.23429</td>\n",
       "      <td>0.01153</td>\n",
       "      <td>-0.21828</td>\n",
       "      <td>0.03783</td>\n",
       "      <td>-0.06650</td>\n",
       "    </tr>\n",
       "    <tr>\n",
       "      <th>3</th>\n",
       "      <td>-2.55832</td>\n",
       "      <td>-0.23098</td>\n",
       "      <td>0.51964</td>\n",
       "      <td>-2.17625</td>\n",
       "      <td>-0.82030</td>\n",
       "      <td>1.49170</td>\n",
       "      <td>-0.27614</td>\n",
       "      <td>0.20709</td>\n",
       "      <td>0.41496</td>\n",
       "      <td>0.13684</td>\n",
       "      <td>-0.08537</td>\n",
       "      <td>-0.14622</td>\n",
       "      <td>0.14217</td>\n",
       "      <td>0.02897</td>\n",
       "      <td>0.04246</td>\n",
       "      <td>0.05304</td>\n",
       "      <td>-0.04444</td>\n",
       "      <td>0.01036</td>\n",
       "      <td>-0.01358</td>\n",
       "    </tr>\n",
       "    <tr>\n",
       "      <th>4</th>\n",
       "      <td>1.02770</td>\n",
       "      <td>-1.57354</td>\n",
       "      <td>1.33138</td>\n",
       "      <td>3.49400</td>\n",
       "      <td>0.98343</td>\n",
       "      <td>0.51368</td>\n",
       "      <td>0.14046</td>\n",
       "      <td>0.98971</td>\n",
       "      <td>-0.66193</td>\n",
       "      <td>-0.21756</td>\n",
       "      <td>0.11126</td>\n",
       "      <td>0.19124</td>\n",
       "      <td>-0.30243</td>\n",
       "      <td>-0.09077</td>\n",
       "      <td>0.04381</td>\n",
       "      <td>0.01230</td>\n",
       "      <td>-0.05059</td>\n",
       "      <td>0.12604</td>\n",
       "      <td>-0.07104</td>\n",
       "    </tr>\n",
       "    <tr>\n",
       "      <th>...</th>\n",
       "      <td>...</td>\n",
       "      <td>...</td>\n",
       "      <td>...</td>\n",
       "      <td>...</td>\n",
       "      <td>...</td>\n",
       "      <td>...</td>\n",
       "      <td>...</td>\n",
       "      <td>...</td>\n",
       "      <td>...</td>\n",
       "      <td>...</td>\n",
       "      <td>...</td>\n",
       "      <td>...</td>\n",
       "      <td>...</td>\n",
       "      <td>...</td>\n",
       "      <td>...</td>\n",
       "      <td>...</td>\n",
       "      <td>...</td>\n",
       "      <td>...</td>\n",
       "      <td>...</td>\n",
       "    </tr>\n",
       "    <tr>\n",
       "      <th>258</th>\n",
       "      <td>-0.33117</td>\n",
       "      <td>-0.16566</td>\n",
       "      <td>0.77589</td>\n",
       "      <td>-1.53670</td>\n",
       "      <td>-1.03502</td>\n",
       "      <td>-0.30630</td>\n",
       "      <td>0.55237</td>\n",
       "      <td>1.18424</td>\n",
       "      <td>-0.24665</td>\n",
       "      <td>0.37940</td>\n",
       "      <td>-0.09496</td>\n",
       "      <td>-0.03364</td>\n",
       "      <td>0.21677</td>\n",
       "      <td>-0.16180</td>\n",
       "      <td>0.22744</td>\n",
       "      <td>-0.22488</td>\n",
       "      <td>0.12649</td>\n",
       "      <td>-0.05540</td>\n",
       "      <td>-0.00974</td>\n",
       "    </tr>\n",
       "    <tr>\n",
       "      <th>259</th>\n",
       "      <td>3.24618</td>\n",
       "      <td>-0.54331</td>\n",
       "      <td>1.20915</td>\n",
       "      <td>2.75402</td>\n",
       "      <td>-1.19752</td>\n",
       "      <td>0.83475</td>\n",
       "      <td>1.96988</td>\n",
       "      <td>-1.37191</td>\n",
       "      <td>-0.54395</td>\n",
       "      <td>-0.89772</td>\n",
       "      <td>-0.16616</td>\n",
       "      <td>-0.29819</td>\n",
       "      <td>0.51057</td>\n",
       "      <td>0.31812</td>\n",
       "      <td>-0.14481</td>\n",
       "      <td>0.00895</td>\n",
       "      <td>-0.15283</td>\n",
       "      <td>-0.05387</td>\n",
       "      <td>-0.06228</td>\n",
       "    </tr>\n",
       "    <tr>\n",
       "      <th>260</th>\n",
       "      <td>-1.09461</td>\n",
       "      <td>-0.75139</td>\n",
       "      <td>-0.93594</td>\n",
       "      <td>1.07235</td>\n",
       "      <td>0.70591</td>\n",
       "      <td>-0.64448</td>\n",
       "      <td>1.49615</td>\n",
       "      <td>0.28711</td>\n",
       "      <td>-0.30437</td>\n",
       "      <td>0.01786</td>\n",
       "      <td>0.22139</td>\n",
       "      <td>0.37817</td>\n",
       "      <td>0.01631</td>\n",
       "      <td>0.09228</td>\n",
       "      <td>0.05604</td>\n",
       "      <td>-0.10349</td>\n",
       "      <td>-0.07874</td>\n",
       "      <td>0.06720</td>\n",
       "      <td>0.01319</td>\n",
       "    </tr>\n",
       "    <tr>\n",
       "      <th>261</th>\n",
       "      <td>1.97768</td>\n",
       "      <td>-2.18452</td>\n",
       "      <td>-0.28201</td>\n",
       "      <td>-0.21687</td>\n",
       "      <td>-0.69487</td>\n",
       "      <td>3.51469</td>\n",
       "      <td>1.14210</td>\n",
       "      <td>-0.23070</td>\n",
       "      <td>-0.24099</td>\n",
       "      <td>0.32496</td>\n",
       "      <td>0.11860</td>\n",
       "      <td>0.16204</td>\n",
       "      <td>-0.34703</td>\n",
       "      <td>-0.23276</td>\n",
       "      <td>0.02105</td>\n",
       "      <td>-0.26228</td>\n",
       "      <td>-0.01441</td>\n",
       "      <td>0.02292</td>\n",
       "      <td>-0.01053</td>\n",
       "    </tr>\n",
       "    <tr>\n",
       "      <th>262</th>\n",
       "      <td>1.83300</td>\n",
       "      <td>-0.30110</td>\n",
       "      <td>-1.05532</td>\n",
       "      <td>0.49298</td>\n",
       "      <td>0.91640</td>\n",
       "      <td>0.27527</td>\n",
       "      <td>1.22419</td>\n",
       "      <td>2.42718</td>\n",
       "      <td>-0.71713</td>\n",
       "      <td>-0.19246</td>\n",
       "      <td>-0.30337</td>\n",
       "      <td>-0.16595</td>\n",
       "      <td>-0.02334</td>\n",
       "      <td>0.02377</td>\n",
       "      <td>0.66084</td>\n",
       "      <td>-0.18621</td>\n",
       "      <td>-0.30257</td>\n",
       "      <td>-0.07553</td>\n",
       "      <td>-0.04060</td>\n",
       "    </tr>\n",
       "  </tbody>\n",
       "</table>\n",
       "<p>263 rows × 19 columns</p>\n",
       "</div>"
      ],
      "text/plain": [
       "                       0                    1                    2  \\\n",
       "0               -0.00965              1.87052              1.26515   \n",
       "1                0.41143             -2.42942             -0.90919   \n",
       "2                3.46682              0.82595              0.55547   \n",
       "3               -2.55832             -0.23098              0.51964   \n",
       "4                1.02770             -1.57354              1.33138   \n",
       "..                   ...                  ...                  ...   \n",
       "258             -0.33117             -0.16566              0.77589   \n",
       "259              3.24618             -0.54331              1.20915   \n",
       "260             -1.09461             -0.75139             -0.93594   \n",
       "261              1.97768             -2.18452             -0.28201   \n",
       "262              1.83300             -0.30110             -1.05532   \n",
       "\n",
       "                       3                    4                    5  \\\n",
       "0               -0.93548              1.10964              1.21197   \n",
       "1               -0.26421              1.23203              1.82662   \n",
       "2               -1.61673             -0.85749             -1.02871   \n",
       "3               -2.17625             -0.82030              1.49170   \n",
       "4                3.49400              0.98343              0.51368   \n",
       "..                   ...                  ...                  ...   \n",
       "258             -1.53670             -1.03502             -0.30630   \n",
       "259              2.75402             -1.19752              0.83475   \n",
       "260              1.07235              0.70591             -0.64448   \n",
       "261             -0.21687             -0.69487              3.51469   \n",
       "262              0.49298              0.91640              0.27527   \n",
       "\n",
       "                       6                    7                    8  \\\n",
       "0               -0.06515             -0.09825             -0.25242   \n",
       "1                0.35989             -1.19938             -0.37182   \n",
       "2               -0.99939              0.84425              0.19738   \n",
       "3               -0.27614              0.20709              0.41496   \n",
       "4                0.14046              0.98971             -0.66193   \n",
       "..                   ...                  ...                  ...   \n",
       "258              0.55237              1.18424             -0.24665   \n",
       "259              1.96988             -1.37191             -0.54395   \n",
       "260              1.49615              0.28711             -0.30437   \n",
       "261              1.14210             -0.23070             -0.24099   \n",
       "262              1.22419              2.42718             -0.71713   \n",
       "\n",
       "                       9                   10                   11  \\\n",
       "0               -0.63710              0.45934              0.61586   \n",
       "1                0.01521              0.17624              0.08053   \n",
       "2                0.77049              0.05565              0.10494   \n",
       "3                0.13684             -0.08537             -0.14622   \n",
       "4               -0.21756              0.11126              0.19124   \n",
       "..                   ...                  ...                  ...   \n",
       "258              0.37940             -0.09496             -0.03364   \n",
       "259             -0.89772             -0.16616             -0.29819   \n",
       "260              0.01786              0.22139              0.37817   \n",
       "261              0.32496              0.11860              0.16204   \n",
       "262             -0.19246             -0.30337             -0.16595   \n",
       "\n",
       "                      12                   13                   14  \\\n",
       "0               -0.47809              0.38841              0.06360   \n",
       "1                0.40348             -0.01939              0.06515   \n",
       "2                0.02161             -0.37620              0.23429   \n",
       "3                0.14217              0.02897              0.04246   \n",
       "4               -0.30243             -0.09077              0.04381   \n",
       "..                   ...                  ...                  ...   \n",
       "258              0.21677             -0.16180              0.22744   \n",
       "259              0.51057              0.31812             -0.14481   \n",
       "260              0.01631              0.09228              0.05604   \n",
       "261             -0.34703             -0.23276              0.02105   \n",
       "262             -0.02334              0.02377              0.66084   \n",
       "\n",
       "                      15                   16                   17  \\\n",
       "0                0.14479              0.08022              0.03814   \n",
       "1                0.16106              0.04434              0.01483   \n",
       "2                0.01153             -0.21828              0.03783   \n",
       "3                0.05304             -0.04444              0.01036   \n",
       "4                0.01230             -0.05059              0.12604   \n",
       "..                   ...                  ...                  ...   \n",
       "258             -0.22488              0.12649             -0.05540   \n",
       "259              0.00895             -0.15283             -0.05387   \n",
       "260             -0.10349             -0.07874              0.06720   \n",
       "261             -0.26228             -0.01441              0.02292   \n",
       "262             -0.18621             -0.30257             -0.07553   \n",
       "\n",
       "                      18  \n",
       "0               -0.01925  \n",
       "1               -0.00339  \n",
       "2               -0.06650  \n",
       "3               -0.01358  \n",
       "4               -0.07104  \n",
       "..                   ...  \n",
       "258             -0.00974  \n",
       "259             -0.06228  \n",
       "260              0.01319  \n",
       "261             -0.01053  \n",
       "262             -0.04060  \n",
       "\n",
       "[263 rows x 19 columns]"
      ]
     },
     "execution_count": 31,
     "metadata": {},
     "output_type": "execute_result"
    }
   ],
   "source": [
    "pca = PCA()\n",
    "x_pca = pca.fit_transform(scale(x))\n",
    "pd.DataFrame(x_pca)"
   ]
  },
  {
   "cell_type": "code",
   "execution_count": 32,
   "metadata": {},
   "outputs": [
    {
     "data": {
      "image/png": "[encoded data removed]",
      "text/plain": [
       "<Figure size 432x288 with 1 Axes>"
      ]
     },
     "metadata": {
      "needs_background": "light"
     },
     "output_type": "display_data"
    }
   ],
   "source": [
    "n = len(x_pca)\n",
    "k10 = KFold(n_splits = 10,  shuffle=True, random_state = 2)\n",
    "\n",
    "lin_reg = LinearRegression()\n",
    "rmse = []\n",
    "\n",
    "score = -1 * cross_val_score(lin_reg,  np.ones((n, 1)), y, cv = k10, scoring = 'neg_mean_squared_error').mean()\n",
    "rmse.append(np.sqrt(score))\n",
    "\n",
    "for i in np.arange(1,20):\n",
    "    score = -1 *cross_val_score(lin_reg, x_pca[:, :i], y, cv = k10, scoring = 'neg_mean_squared_error').mean()\n",
    "    rmse.append(np.sqrt(score))\n",
    "    \n",
    "min_rmse  = np.array(rmse).argmin()\n",
    "\n",
    "plt.plot(rmse, '-D', markersize = 5, lw = 1)\n",
    "plt.plot(rmse, markevery=[min_rmse], marker = 'X', lw = 0, color = 'r', markersize = 12)\n",
    "plt.xlabel('N de Componentes')\n",
    "plt.ylabel('RMSE')\n",
    "plt.xticks(np.linspace(0,20,11));"
   ]
  },
  {
   "cell_type": "code",
   "execution_count": 33,
   "metadata": {},
   "outputs": [
    {
     "data": {
      "text/plain": [
       "[453.9151438352577,\n",
       " 353.72985059230996,\n",
       " 354.22412193956956,\n",
       " 353.90201122190746,\n",
       " 350.95846635685007,\n",
       " 346.18098732700025,\n",
       " 344.16559623185475,\n",
       " 345.61122841718174,\n",
       " 347.9296720557596,\n",
       " 349.9208190385274,\n",
       " 347.50969440861564,\n",
       " 348.4771633886489,\n",
       " 349.5689299684256,\n",
       " 351.6988447259376,\n",
       " 344.63691910079183,\n",
       " 345.238400845699,\n",
       " 338.0474378173951,\n",
       " 336.74023824097947,\n",
       " 335.727080653414,\n",
       " 339.56437752741994]"
      ]
     },
     "execution_count": 33,
     "metadata": {},
     "output_type": "execute_result"
    }
   ],
   "source": [
    "rmse"
   ]
  },
  {
   "cell_type": "code",
   "execution_count": 34,
   "metadata": {},
   "outputs": [
    {
     "data": {
      "text/plain": [
       "array([ 38.31423957,  60.15531541,  70.8416746 ,  79.03419435,\n",
       "        84.29027516,  88.63477938,  92.26288766,  94.96304322,\n",
       "        96.28269124,  97.25541298,  97.97775424,  98.64870031,\n",
       "        99.15178693,  99.4730334 ,  99.74659124,  99.89398793,\n",
       "        99.96815949,  99.99375108, 100.        ])"
      ]
     },
     "execution_count": 34,
     "metadata": {},
     "output_type": "execute_result"
    }
   ],
   "source": [
    "np.cumsum(pca.explained_variance_ratio_*100)"
   ]
  },
  {
   "cell_type": "code",
   "execution_count": 35,
   "metadata": {},
   "outputs": [
    {
     "data": {
      "image/png": "[encoded data removed]",
      "text/plain": [
       "<Figure size 432x288 with 1 Axes>"
      ]
     },
     "metadata": {
      "needs_background": "light"
     },
     "output_type": "display_data"
    }
   ],
   "source": [
    "x_train, _test, y_train, y_test = model_selection.train_test_split(x, y, test_size=0.5, random_state=2)\n",
    "\n",
    "pca2 = PCA()\n",
    "x_train_pca2 = pca2.fit_transform(scale(x_train))\n",
    "\n",
    "n = len(x_train_pca2)\n",
    "k102 = KFold(n_splits= 10, shuffle=True, random_state=1)\n",
    "\n",
    "lin_reg2 = LinearRegression()\n",
    "rmse2 = []\n",
    "\n",
    "score = -1 * cross_val_score(lin_reg2, np.ones((n,1)), y_train, cv=k102, scoring='neg_mean_squared_error').mean()\n",
    "rmse2.append(np.sqrt(score))\n",
    "\n",
    "for i in np.arange(1, 20):\n",
    "    score = cross_val_score(lin_reg2, x_train_pca2[:,:i], y_train, cv=k102, scoring='neg_mean_squared_error').mean()\n",
    "    rmse2.append(np.sqrt(-score))\n",
    "\n",
    "min_rmse = np.array(rmse2).argmin()\n",
    "    \n",
    "plt.plot(rmse2, '-D', lw = 1, markersize = 5)\n",
    "plt.plot(rmse2, markevery=[min_rmse], marker='X', lw=0, color='red', markersize = 12)\n",
    "plt.xlabel('N de componentes')\n",
    "plt.ylabel('RMSE')\n",
    "plt.xticks(np.linspace(0,20,11));"
   ]
  },
  {
   "cell_type": "code",
   "execution_count": 36,
   "metadata": {},
   "outputs": [
    {
     "data": {
      "text/plain": [
       "301383.33109825273"
      ]
     },
     "execution_count": 36,
     "metadata": {},
     "output_type": "execute_result"
    }
   ],
   "source": [
    "x_train_pca3 = pca2.fit_transform(scale(x_train))[:, :7]\n",
    "x_test_pca3 = pca2.fit_transform(scale(x_test))[:, :7]\n",
    "\n",
    "lin_reg3 = LinearRegression()\n",
    "lin_reg3.fit(x_train_pca3, y_train)\n",
    "pred_pca3 = lin_reg3.predict(x_test_pca3)\n",
    "\n",
    "mean_squared_error(y_test, pred_pca3)"
   ]
  },
  {
   "cell_type": "markdown",
   "metadata": {},
   "source": [
    "### PLS "
   ]
  },
  {
   "cell_type": "code",
   "execution_count": 37,
   "metadata": {},
   "outputs": [
    {
     "data": {
      "image/png": "[encoded data removed]",
      "text/plain": [
       "<Figure size 432x288 with 1 Axes>"
      ]
     },
     "metadata": {
      "needs_background": "light"
     },
     "output_type": "display_data"
    }
   ],
   "source": [
    "n = len(x_train)\n",
    "k10 = KFold(n_splits = 10, shuffle=False, random_state = 1)\n",
    "rmsepls = []\n",
    "\n",
    "for i in np.arange(1, 20):\n",
    "    pls = PLSRegression(n_components=i)\n",
    "    score = -1 * cross_val_score(pls, scale(x_train), y_train, cv = k10, scoring = 'neg_mean_squared_error').mean()\n",
    "    rmsepls.append(np.sqrt(score))\n",
    "    \n",
    "\n",
    "min_rmse = np.array(rmsepls).argmin()\n",
    "\n",
    "plt.plot(rmsepls, '-D', lw = 1)\n",
    "plt.plot(rmsepls, markevery=[min_rmse], marker = 'X', lw = 0, color = 'red', markersize = 12)\n",
    "plt.xlabel('N de componentes')\n",
    "plt.ylabel('RMSE')\n",
    "plt.xticks(np.linspace(0, 20, 21));"
   ]
  },
  {
   "cell_type": "code",
   "execution_count": 38,
   "metadata": {},
   "outputs": [
    {
     "data": {
      "text/plain": [
       "328553.7184260354"
      ]
     },
     "execution_count": 38,
     "metadata": {},
     "output_type": "execute_result"
    }
   ],
   "source": [
    "pls = PLSRegression(n_components=6)\n",
    "pls.fit(scale(x_train), y_train)\n",
    "\n",
    "mean_squared_error(y_test, pls.predict(scale(x_test)))"
   ]
  },
  {
   "cell_type": "markdown",
   "metadata": {},
   "source": [
    "# Exercícios Conceituais"
   ]
  },
  {
   "cell_type": "markdown",
   "metadata": {},
   "source": [
    "#### 1\n",
    "\n",
    "+ a) Nos três, pois todos terão todos os preditores em algum momento\n",
    "\n",
    "+ b) Best Subset\n",
    "\n",
    "+ c)\n",
    "    + V\n",
    "    + V\n",
    "    + F\n",
    "    + F\n",
    "    + F\n",
    "    \n",
    "#### 2\n",
    "+ a) \n",
    "    + F\n",
    "    + F\n",
    "    + V\n",
    "    + F\n",
    "+ b)\n",
    "    + F\n",
    "    + F\n",
    "    + V\n",
    "    + F\n",
    "+ c) \n",
    "    + F\n",
    "    + T\n",
    "    + F\n",
    "    + F\n",
    "\n",
    "#### 3\n",
    "+ a) IV\n",
    "+ b) II\n",
    "+ c) III\n",
    "+ d) IV\n",
    "+ e) V\n",
    "\n",
    "#### 4 \n",
    "+ a)  III, pois quando o $\\lambda$ aumenta, a flexibilidade diminui e aumenta-se o viés (para que seja diminuida a variância)\n",
    "+ b) II, o aumento do $\\lambda$  diminui a variância e aumenta o viés, mas depois de um lambda alto, o erro compensado de um não é suficiente\n",
    "+ c) IV\n",
    "+ d) III, com maior lambda, menor a flexibilidade, ou seja, menor a variância, e maior o viés\n",
    "+ e) O erro irredutível \n",
    "\n",
    "#### 5\n",
    "\n",
    "?\n",
    "\n",
    "#### 6 "
   ]
  },
  {
   "cell_type": "code",
   "execution_count": 12,
   "metadata": {
    "scrolled": true
   },
   "outputs": [
    {
     "data": {
      "image/png": "[encoded data removed]",
      "text/plain": [
       "<Figure size 432x288 with 1 Axes>"
      ]
     },
     "metadata": {
      "needs_background": "light"
     },
     "output_type": "display_data"
    }
   ],
   "source": [
    "# a) p = 1, 6.12 é (y-Beta)**2 + lambdaBeta**2\n",
    "\n",
    "y1 = np.random.randint(low = 1, high = 10)\n",
    "lamb = np.random.randint(low  =1, high = 10)\n",
    "beta = np.arange(-10, 10, .1)\n",
    "y = (y1 - beta)**2  +  lamb*beta**2\n",
    "min_beta  = y1/(1+lamb)\n",
    "y_min = (y1 - min_beta)**2 + lamb*min_beta**2\n",
    "plt.scatter(beta, y , antialiased = True)\n",
    "plt.plot(min_beta,  y_min, '^', c  = 'red', markersize = 10)\n",
    "plt.xticks(np.linspace(-10, 10, 21));"
   ]
  },
  {
   "cell_type": "code",
   "execution_count": 17,
   "metadata": {},
   "outputs": [
    {
     "data": {
      "text/plain": [
       "4.0"
      ]
     },
     "execution_count": 17,
     "metadata": {},
     "output_type": "execute_result"
    }
   ],
   "source": [
    "min_beta"
   ]
  },
  {
   "cell_type": "code",
   "execution_count": 18,
   "metadata": {},
   "outputs": [
    {
     "data": {
      "image/png": "[encoded data removed]",
      "text/plain": [
       "<Figure size 432x288 with 1 Axes>"
      ]
     },
     "metadata": {
      "needs_background": "light"
     },
     "output_type": "display_data"
    }
   ],
   "source": [
    "# b) p = 1, 6.12 é (y-B)**2 + lamb|B|\n",
    "\n",
    "y1 = 6\n",
    "lamb = 4\n",
    "\n",
    "beta = np.arange(-10, 10, .1)\n",
    "y = (y1-beta)**2 + lamb*abs(beta)\n",
    "min_beta = y1 -  (lamb/2)\n",
    "y_min  = (y1 - min_beta)**2 + lamb*abs(min_beta)\n",
    "\n",
    "plt.scatter(beta, y)\n",
    "plt.plot(min_beta, y_min, 'o', c  = \"red\", markersize = 10)\n",
    "plt.xticks(np.linspace(-10, 10, 21));"
   ]
  },
  {
   "cell_type": "markdown",
   "metadata": {},
   "source": [
    "# Aplicados"
   ]
  },
  {
   "cell_type": "code",
   "execution_count": 47,
   "metadata": {},
   "outputs": [],
   "source": [
    "x = np.random.normal(size =100)\n",
    "erro = np.random.normal(size = 100)\n",
    "y = 10 -2 * x - 1 *  x ** 2 + 5 * x ** 3 + erro"
   ]
  },
  {
   "cell_type": "code",
   "execution_count": null,
   "metadata": {},
   "outputs": [],
   "source": []
  }
 ],
 "metadata": {
  "kernelspec": {
   "display_name": "Python 3",
   "language": "python",
   "name": "python3"
  },
  "language_info": {
   "codemirror_mode": {
    "name": "ipython",
    "version": 3
   },
   "file_extension": ".py",
   "mimetype": "text/x-python",
   "name": "python",
   "nbconvert_exporter": "python",
   "pygments_lexer": "ipython3",
   "version": "3.7.5"
  }
 },
 "nbformat": 4,
 "nbformat_minor": 2
}
